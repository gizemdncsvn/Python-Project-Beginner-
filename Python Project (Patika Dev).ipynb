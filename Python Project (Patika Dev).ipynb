{
 "cells": [
  {
   "cell_type": "markdown",
   "id": "4e5e78af",
   "metadata": {},
   "source": [
    "## Python Proje"
   ]
  },
  {
   "cell_type": "markdown",
   "id": "eddf983f",
   "metadata": {},
   "source": [
    "### Proje 1.1"
   ]
  },
  {
   "cell_type": "markdown",
   "id": "1b0e108d",
   "metadata": {},
   "source": [
    "1- Bir listeyi düzleştiren (flatten) fonksiyon yazın. Elemanları birden çok katmanlı listelerden ([[3],2] gibi) oluşabileceği gibi, non-scalar verilerden de oluşabilir. "
   ]
  },
  {
   "cell_type": "markdown",
   "id": "206c919b",
   "metadata": {},
   "source": [
    "### Çözüm\n"
   ]
  },
  {
   "cell_type": "code",
   "execution_count": 70,
   "id": "28503830",
   "metadata": {
    "scrolled": false
   },
   "outputs": [
    {
     "name": "stdout",
     "output_type": "stream",
     "text": [
      "[1, 2, 'flower', 5, 'l', 10, 'b']"
     ]
    }
   ],
   "source": [
    "m = [[1,2,'flower', 5,'l', 10, 'b']]\n",
    "\n",
    "new_m=[]\n",
    "for l in m:\n",
    "    print(l, end=\"\")"
   ]
  },
  {
   "cell_type": "markdown",
   "id": "1e793d65",
   "metadata": {},
   "source": [
    "### Proje 1.2\n"
   ]
  },
  {
   "cell_type": "markdown",
   "id": "97957bfc",
   "metadata": {},
   "source": [
    "2- Verilen listenin içindeki elemanları tersine döndüren bir fonksiyon yazın. Eğer listenin içindeki elemanlar da liste içeriyorsa onların elemanlarını da tersine döndürün."
   ]
  },
  {
   "cell_type": "code",
   "execution_count": 60,
   "id": "b5719b3c",
   "metadata": {},
   "outputs": [
    {
     "data": {
      "text/plain": [
       "['b', 10, 'l', 5, 'flower', 2, 1]"
      ]
     },
     "execution_count": 60,
     "metadata": {},
     "output_type": "execute_result"
    }
   ],
   "source": [
    "m = [1,2,'flower', 5,'l', 10, 'b']\n",
    "\n",
    "m[::-1]"
   ]
  }
 ],
 "metadata": {
  "kernelspec": {
   "display_name": "Python 3 (ipykernel)",
   "language": "python",
   "name": "python3"
  },
  "language_info": {
   "codemirror_mode": {
    "name": "ipython",
    "version": 3
   },
   "file_extension": ".py",
   "mimetype": "text/x-python",
   "name": "python",
   "nbconvert_exporter": "python",
   "pygments_lexer": "ipython3",
   "version": "3.11.2"
  }
 },
 "nbformat": 4,
 "nbformat_minor": 5
}
